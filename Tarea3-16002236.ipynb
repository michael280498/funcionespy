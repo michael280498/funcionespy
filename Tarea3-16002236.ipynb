{
 "cells": [
  {
   "cell_type": "markdown",
   "metadata": {},
   "source": [
    "Tarea\n",
    "\n",
    "Con esto terminamos Python basico y sintaxis general faltando unicamente un punto que sera clave para resolver la tarea practica:\n",
    "\n",
    "Funciones: Tambien llamadas sub-rutinas, procedimientos o metodos en otros lenguajes, esta tarea consiste en investigar:\n",
    "\n",
    "    funciones en Python\n",
    "    parametros posisionales\n",
    "    parametros nombrados\n",
    "    retorno de multiples valores\n",
    "    funciones como objetos y como parametros de otras funciones\n",
    "    funciones anonimas o lambda\n",
    "\n",
    "Entrega: Documento explicando bajo tus conclusiones(no copy-paste) cada uno de estos puntos ejemplificando un caso de uso, este debe ser subio al GES. Limite de entrega :Miercoles 13\n",
    "\n"
   ]
  },
  {
   "cell_type": "code",
   "execution_count": null,
   "metadata": {},
   "outputs": [],
   "source": []
  },
  {
   "cell_type": "markdown",
   "metadata": {},
   "source": [
    "\n",
    "Funciones en Python: Es un bloque de codigo que puede recibir parametros o no, y tiene un conjunto de sentencias que cumplen una funcion, devuleven un valor o realiza una tarea \n",
    "Ejemplo: una funcion que devuelve el iva de una cantidad "
   ]
  },
  {
   "cell_type": "code",
   "execution_count": 2,
   "metadata": {},
   "outputs": [
    {
     "name": "stdout",
     "output_type": "stream",
     "text": [
      "60.0\n"
     ]
    }
   ],
   "source": [
    "cantidad = 500 \n",
    "def iva(cant): \n",
    "    x = cant * 0.12 \n",
    "    return x\n",
    "print(iva(cantidad))"
   ]
  },
  {
   "cell_type": "markdown",
   "metadata": {},
   "source": [
    "Parametros posicionales: Los valores se asignan a los parámetros en el mismo orden en que se indican, de lo contrario no tendremos el valor esperado o no funcionara la funcion.\n",
    "Ejemplo: Sacar el descuento y restarselo a la cantidad inicial"
   ]
  },
  {
   "cell_type": "code",
   "execution_count": 7,
   "metadata": {},
   "outputs": [
    {
     "name": "stdout",
     "output_type": "stream",
     "text": [
      "56.0\n"
     ]
    }
   ],
   "source": [
    "cantidad = 80\n",
    "descuento = 30\n",
    "def desc(cant, desc): \n",
    "    x = cant * (desc/100)\n",
    "    y = cant - x\n",
    "    return y\n",
    "print(desc(cantidad,descuento))\n",
    "\n"
   ]
  },
  {
   "cell_type": "markdown",
   "metadata": {},
   "source": [
    "Parametros nombrados: en la llamada a la funcion definimos el nombramiento del parametro es de sir, se le asigna el valor."
   ]
  },
  {
   "cell_type": "code",
   "execution_count": 12,
   "metadata": {},
   "outputs": [
    {
     "name": "stdout",
     "output_type": "stream",
     "text": [
      "25\n",
      "64\n"
     ]
    }
   ],
   "source": [
    "def cuadrado(num):\n",
    "    cuadrado = num **2\n",
    "    return cuadrado\n",
    "# Por posicion del parámetro:\n",
    "print(cuadrado(5))\n",
    "\n",
    "# Por nombramiento del parámetro:\n",
    "print(cuadrado(num=8))"
   ]
  },
  {
   "cell_type": "markdown",
   "metadata": {},
   "source": [
    "Retorno de multiples valores: la funcion retorna valores a los cuales podemos acceder a las variables de forma ordenada"
   ]
  },
  {
   "cell_type": "code",
   "execution_count": 17,
   "metadata": {},
   "outputs": [
    {
     "name": "stdout",
     "output_type": "stream",
     "text": [
      "(3, 3)\n"
     ]
    }
   ],
   "source": [
    "def partir(dividendo, divisor):\n",
    "  cociente = dividendo//divisor\n",
    "  resto = dividendo%divisor\n",
    "  return cociente,resto\n",
    "print(partir(15,4))"
   ]
  },
  {
   "cell_type": "markdown",
   "metadata": {},
   "source": [
    "Funciones como objetos y como parametros de otras funciones: todos los datos en python estan representados como objetos o relaciones entre objetos por lo tanto podemos asignar a variables el retorno de otras funciones. "
   ]
  },
  {
   "cell_type": "code",
   "execution_count": 39,
   "metadata": {},
   "outputs": [
    {
     "name": "stdout",
     "output_type": "stream",
     "text": [
      "None\n",
      "None\n",
      "None\n",
      "None\n",
      "None\n",
      "None\n",
      "None\n",
      "1\n",
      "None\n",
      "None\n",
      "None\n",
      "1\n",
      "None\n",
      "None\n",
      "None\n",
      "None\n",
      "None\n"
     ]
    }
   ],
   "source": [
    "def letter(a):\n",
    "    if (a == \"e\"):\n",
    "        return 1\n",
    "    \n",
    "    \n",
    "\n",
    "       \n",
    "        \n",
    "\n",
    "palabra = \"Python es hermoso\"\n",
    "for x in palabra:\n",
    "    print(letter(x))"
   ]
  },
  {
   "cell_type": "markdown",
   "metadata": {},
   "source": [
    "Funciones anonimas o lambda: es una funcion sin nombre, anonima que hace funciones u operaciones simples"
   ]
  },
  {
   "cell_type": "code",
   "execution_count": 44,
   "metadata": {},
   "outputs": [
    {
     "data": {
      "text/plain": [
       "10"
      ]
     },
     "execution_count": 44,
     "metadata": {},
     "output_type": "execute_result"
    }
   ],
   "source": [
    "cuadrado = lambda num: num*2\n",
    "\n",
    "doblar(5)"
   ]
  },
  {
   "cell_type": "code",
   "execution_count": null,
   "metadata": {},
   "outputs": [],
   "source": []
  },
  {
   "cell_type": "code",
   "execution_count": null,
   "metadata": {},
   "outputs": [],
   "source": []
  },
  {
   "cell_type": "code",
   "execution_count": null,
   "metadata": {},
   "outputs": [],
   "source": []
  }
 ],
 "metadata": {
  "kernelspec": {
   "display_name": "Python 3",
   "language": "python",
   "name": "python3"
  },
  "language_info": {
   "codemirror_mode": {
    "name": "ipython",
    "version": 3
   },
   "file_extension": ".py",
   "mimetype": "text/x-python",
   "name": "python",
   "nbconvert_exporter": "python",
   "pygments_lexer": "ipython3",
   "version": "3.7.6"
  }
 },
 "nbformat": 4,
 "nbformat_minor": 4
}
